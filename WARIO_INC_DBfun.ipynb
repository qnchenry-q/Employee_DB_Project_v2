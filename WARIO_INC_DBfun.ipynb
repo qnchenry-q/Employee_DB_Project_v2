{
 "cells": [
  {
   "cell_type": "code",
   "execution_count": 1,
   "id": "earlier-tumor",
   "metadata": {},
   "outputs": [],
   "source": [
    "import sqlite3\n",
    "import pandas as pd"
   ]
  },
  {
   "cell_type": "code",
   "execution_count": 2,
   "id": "thirty-offset",
   "metadata": {},
   "outputs": [],
   "source": [
    "def run_query(q):\n",
    "    with sqlite3.connect('WarioINC.db') as conn:\n",
    "        return pd.read_sql(q, conn)"
   ]
  },
  {
   "cell_type": "code",
   "execution_count": 4,
   "id": "royal-cause",
   "metadata": {},
   "outputs": [],
   "source": [
    "def run_command(c):\n",
    "    with sqlite3.connect('WarioINC.db') as conn:\n",
    "        conn.isolation_level = None\n",
    "        conn.execute(c)"
   ]
  },
  {
   "cell_type": "code",
   "execution_count": 12,
   "id": "nervous-duplicate",
   "metadata": {},
   "outputs": [],
   "source": [
    "create_employees = '''CREATE TABLE employees (\n",
    "                      employee_id int PRIMARY KEY,\n",
    "                      address_id int,\n",
    "                      department_id int,\n",
    "                      name varchar (255),\n",
    "                      age int,\n",
    "                      salary bigint,\n",
    "                      FOREIGN KEY(department_id) REFERENCES departments(departments_id)\n",
    "                      FOREIGN KEY(address_id) REFERENCES addresses (address_id)\n",
    "                      )\n",
    "'''"
   ]
  },
  {
   "cell_type": "code",
   "execution_count": 11,
   "id": "studied-aerospace",
   "metadata": {},
   "outputs": [],
   "source": [
    "#run_command('DROP TABLE employees')"
   ]
  },
  {
   "cell_type": "code",
   "execution_count": 13,
   "id": "legendary-annotation",
   "metadata": {},
   "outputs": [],
   "source": [
    "run_command(create_employees)"
   ]
  },
  {
   "cell_type": "code",
   "execution_count": 19,
   "id": "signal-atlanta",
   "metadata": {},
   "outputs": [],
   "source": [
    "create_addresses = '''CREATE TABLE addresses (\n",
    "                      address_id int PRIMARY KEY,\n",
    "                      street varchar (255),\n",
    "                      city varchar (255),\n",
    "                      state varchar (2),\n",
    "                      FOREIGN KEY (address_id) REFERENCES employees (address_id)\n",
    "                      )\n",
    "'''"
   ]
  },
  {
   "cell_type": "code",
   "execution_count": 20,
   "id": "amber-track",
   "metadata": {},
   "outputs": [],
   "source": [
    "run_command(create_addresses)"
   ]
  },
  {
   "cell_type": "code",
   "execution_count": 18,
   "id": "hungarian-fifty",
   "metadata": {},
   "outputs": [],
   "source": [
    "run_command('DROP TABLE addresses')"
   ]
  },
  {
   "cell_type": "code",
   "execution_count": 21,
   "id": "reflected-details",
   "metadata": {},
   "outputs": [],
   "source": [
    "create_departments = '''CREATE TABLE departments (\n",
    "                        department_id int PRIMARY KEY,\n",
    "                        department_name varchar (255),\n",
    "                        manager_id int,\n",
    "                        address_id int,\n",
    "                        FOREIGN KEY (manager_id) REFERENCES employee (employee_id),\n",
    "                        FOREIGN KEY (address_id) REFERENCES employee (address_id)\n",
    ")\n",
    "'''"
   ]
  },
  {
   "cell_type": "code",
   "execution_count": 22,
   "id": "binding-boston",
   "metadata": {},
   "outputs": [],
   "source": [
    "run_command (create_departments)"
   ]
  },
  {
   "cell_type": "code",
   "execution_count": 23,
   "id": "young-snowboard",
   "metadata": {},
   "outputs": [],
   "source": [
    "def show_tables():\n",
    "    query = '''SELECT\n",
    "                  name,\n",
    "                  type\n",
    "               FROM sqlite_master\n",
    "               WHERE type IN (\"table\",\"view\");'''\n",
    "    return run_query(query)"
   ]
  },
  {
   "cell_type": "code",
   "execution_count": 24,
   "id": "appreciated-yacht",
   "metadata": {},
   "outputs": [
    {
     "data": {
      "text/html": [
       "<div>\n",
       "<style scoped>\n",
       "    .dataframe tbody tr th:only-of-type {\n",
       "        vertical-align: middle;\n",
       "    }\n",
       "\n",
       "    .dataframe tbody tr th {\n",
       "        vertical-align: top;\n",
       "    }\n",
       "\n",
       "    .dataframe thead th {\n",
       "        text-align: right;\n",
       "    }\n",
       "</style>\n",
       "<table border=\"1\" class=\"dataframe\">\n",
       "  <thead>\n",
       "    <tr style=\"text-align: right;\">\n",
       "      <th></th>\n",
       "      <th>name</th>\n",
       "      <th>type</th>\n",
       "    </tr>\n",
       "  </thead>\n",
       "  <tbody>\n",
       "    <tr>\n",
       "      <th>0</th>\n",
       "      <td>employees</td>\n",
       "      <td>table</td>\n",
       "    </tr>\n",
       "    <tr>\n",
       "      <th>1</th>\n",
       "      <td>addresses</td>\n",
       "      <td>table</td>\n",
       "    </tr>\n",
       "    <tr>\n",
       "      <th>2</th>\n",
       "      <td>departments</td>\n",
       "      <td>table</td>\n",
       "    </tr>\n",
       "  </tbody>\n",
       "</table>\n",
       "</div>"
      ],
      "text/plain": [
       "          name   type\n",
       "0    employees  table\n",
       "1    addresses  table\n",
       "2  departments  table"
      ]
     },
     "execution_count": 24,
     "metadata": {},
     "output_type": "execute_result"
    }
   ],
   "source": [
    "show_tables()"
   ]
  },
  {
   "cell_type": "code",
   "execution_count": 26,
   "id": "agricultural-burns",
   "metadata": {},
   "outputs": [
    {
     "data": {
      "text/html": [
       "<div>\n",
       "<style scoped>\n",
       "    .dataframe tbody tr th:only-of-type {\n",
       "        vertical-align: middle;\n",
       "    }\n",
       "\n",
       "    .dataframe tbody tr th {\n",
       "        vertical-align: top;\n",
       "    }\n",
       "\n",
       "    .dataframe thead th {\n",
       "        text-align: right;\n",
       "    }\n",
       "</style>\n",
       "<table border=\"1\" class=\"dataframe\">\n",
       "  <thead>\n",
       "    <tr style=\"text-align: right;\">\n",
       "      <th></th>\n",
       "      <th>employee_id</th>\n",
       "      <th>address_id</th>\n",
       "      <th>department_id</th>\n",
       "      <th>name</th>\n",
       "      <th>age</th>\n",
       "      <th>salary</th>\n",
       "    </tr>\n",
       "  </thead>\n",
       "  <tbody>\n",
       "  </tbody>\n",
       "</table>\n",
       "</div>"
      ],
      "text/plain": [
       "Empty DataFrame\n",
       "Columns: [employee_id, address_id, department_id, name, age, salary]\n",
       "Index: []"
      ]
     },
     "execution_count": 26,
     "metadata": {},
     "output_type": "execute_result"
    }
   ],
   "source": [
    "run_query ('SELECT * FROM employees')"
   ]
  },
  {
   "cell_type": "code",
   "execution_count": 27,
   "id": "architectural-northeast",
   "metadata": {},
   "outputs": [
    {
     "data": {
      "text/html": [
       "<div>\n",
       "<style scoped>\n",
       "    .dataframe tbody tr th:only-of-type {\n",
       "        vertical-align: middle;\n",
       "    }\n",
       "\n",
       "    .dataframe tbody tr th {\n",
       "        vertical-align: top;\n",
       "    }\n",
       "\n",
       "    .dataframe thead th {\n",
       "        text-align: right;\n",
       "    }\n",
       "</style>\n",
       "<table border=\"1\" class=\"dataframe\">\n",
       "  <thead>\n",
       "    <tr style=\"text-align: right;\">\n",
       "      <th></th>\n",
       "      <th>address_id</th>\n",
       "      <th>street</th>\n",
       "      <th>city</th>\n",
       "      <th>state</th>\n",
       "    </tr>\n",
       "  </thead>\n",
       "  <tbody>\n",
       "  </tbody>\n",
       "</table>\n",
       "</div>"
      ],
      "text/plain": [
       "Empty DataFrame\n",
       "Columns: [address_id, street, city, state]\n",
       "Index: []"
      ]
     },
     "execution_count": 27,
     "metadata": {},
     "output_type": "execute_result"
    }
   ],
   "source": [
    "run_query ('SELECT * FROM addresses')"
   ]
  },
  {
   "cell_type": "code",
   "execution_count": 28,
   "id": "thousand-reconstruction",
   "metadata": {},
   "outputs": [
    {
     "data": {
      "text/html": [
       "<div>\n",
       "<style scoped>\n",
       "    .dataframe tbody tr th:only-of-type {\n",
       "        vertical-align: middle;\n",
       "    }\n",
       "\n",
       "    .dataframe tbody tr th {\n",
       "        vertical-align: top;\n",
       "    }\n",
       "\n",
       "    .dataframe thead th {\n",
       "        text-align: right;\n",
       "    }\n",
       "</style>\n",
       "<table border=\"1\" class=\"dataframe\">\n",
       "  <thead>\n",
       "    <tr style=\"text-align: right;\">\n",
       "      <th></th>\n",
       "      <th>department_id</th>\n",
       "      <th>department_name</th>\n",
       "      <th>manager_id</th>\n",
       "      <th>address_id</th>\n",
       "    </tr>\n",
       "  </thead>\n",
       "  <tbody>\n",
       "  </tbody>\n",
       "</table>\n",
       "</div>"
      ],
      "text/plain": [
       "Empty DataFrame\n",
       "Columns: [department_id, department_name, manager_id, address_id]\n",
       "Index: []"
      ]
     },
     "execution_count": 28,
     "metadata": {},
     "output_type": "execute_result"
    }
   ],
   "source": [
    "run_query ('SELECT * FROM departments')"
   ]
  },
  {
   "cell_type": "code",
   "execution_count": null,
   "id": "senior-champagne",
   "metadata": {},
   "outputs": [],
   "source": []
  }
 ],
 "metadata": {
  "kernelspec": {
   "display_name": "Python 3",
   "language": "python",
   "name": "python3"
  },
  "language_info": {
   "codemirror_mode": {
    "name": "ipython",
    "version": 3
   },
   "file_extension": ".py",
   "mimetype": "text/x-python",
   "name": "python",
   "nbconvert_exporter": "python",
   "pygments_lexer": "ipython3",
   "version": "3.7.10"
  }
 },
 "nbformat": 4,
 "nbformat_minor": 5
}
