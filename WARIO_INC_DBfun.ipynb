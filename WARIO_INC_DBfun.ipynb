{
 "cells": [
  {
   "cell_type": "code",
   "execution_count": 1,
   "id": "female-preserve",
   "metadata": {},
   "outputs": [],
   "source": [
    "import sqlite3\n",
    "import pandas as pd"
   ]
  },
  {
   "cell_type": "code",
   "execution_count": 2,
   "id": "generic-tobago",
   "metadata": {},
   "outputs": [],
   "source": [
    "def run_query(q):\n",
    "    with sqlite3.connect('WarioINC.db') as conn:\n",
    "        return pd.read_sql(q, conn)"
   ]
  },
  {
   "cell_type": "code",
   "execution_count": 4,
   "id": "invisible-mixture",
   "metadata": {},
   "outputs": [],
   "source": [
    "def run_command(c):\n",
    "    with sqlite3.connect('WarioINC.db') as conn:\n",
    "        conn.isolation_level = None\n",
    "        conn.execute(c)"
   ]
  },
  {
   "cell_type": "code",
   "execution_count": 12,
   "id": "consistent-methodology",
   "metadata": {},
   "outputs": [],
   "source": [
    "create_employees = '''CREATE TABLE employees (\n",
    "                      employee_id int PRIMARY KEY,\n",
    "                      address_id int,\n",
    "                      department_id int,\n",
    "                      name varchar (255),\n",
    "                      age int,\n",
    "                      salary bigint,\n",
    "                      FOREIGN KEY(department_id) REFERENCES departments(departments_id)\n",
    "                      FOREIGN KEY(address_id) REFERENCES addresses (address_id)\n",
    "                      )\n",
    "'''"
   ]
  },
  {
   "cell_type": "code",
   "execution_count": 11,
   "id": "seasonal-remove",
   "metadata": {},
   "outputs": [],
   "source": [
    "#run_command('DROP TABLE employees')"
   ]
  },
  {
   "cell_type": "code",
   "execution_count": 13,
   "id": "aging-drama",
   "metadata": {},
   "outputs": [],
   "source": [
    "run_command(create_employees)"
   ]
  },
  {
   "cell_type": "code",
   "execution_count": 14,
   "id": "brave-chick",
   "metadata": {},
   "outputs": [],
   "source": [
    "create_addresses = '''CREATE TABLE addresses (\n",
    "                      address_id int PRIMARY KEY,\n",
    "                      street varchar (255),\n",
    "                      city varchar (255),\n",
    "                      state varchar (2)\n",
    "                      )\n",
    "'''"
   ]
  },
  {
   "cell_type": "code",
   "execution_count": 16,
   "id": "dimensional-patch",
   "metadata": {},
   "outputs": [],
   "source": [
    "run_command(create_addresses)"
   ]
  },
  {
   "cell_type": "code",
   "execution_count": 17,
   "id": "objective-cattle",
   "metadata": {},
   "outputs": [],
   "source": [
    "#run_command('DROP TABLE addresses')"
   ]
  },
  {
   "cell_type": "code",
   "execution_count": null,
   "id": "characteristic-completion",
   "metadata": {},
   "outputs": [],
   "source": [
    "create_departments = '''\n",
    "'''"
   ]
  }
 ],
 "metadata": {
  "kernelspec": {
   "display_name": "Python 3",
   "language": "python",
   "name": "python3"
  },
  "language_info": {
   "codemirror_mode": {
    "name": "ipython",
    "version": 3
   },
   "file_extension": ".py",
   "mimetype": "text/x-python",
   "name": "python",
   "nbconvert_exporter": "python",
   "pygments_lexer": "ipython3",
   "version": "3.7.10"
  }
 },
 "nbformat": 4,
 "nbformat_minor": 5
}
