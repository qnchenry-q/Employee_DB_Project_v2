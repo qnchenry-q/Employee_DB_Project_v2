{
 "cells": [
  {
   "cell_type": "code",
   "execution_count": 27,
   "id": "designed-collectible",
   "metadata": {
    "scrolled": true
   },
   "outputs": [
    {
     "name": "stdout",
     "output_type": "stream",
     "text": [
      "{'FL': {}, 'TX': {}, 'NY': {}, 'CA': {}, 'OH': {}, 'GA': {}}\n",
      "{'FL', 'TX', 'NY', 'CA', 'OH', 'GA'}\n"
     ]
    }
   ],
   "source": [
    "import csv\n",
    "\n",
    "with open('adresses_v2.csv') as csvf:\n",
    "  reader = csv.DictReader(csvf)\n",
    "\n",
    "  states = set()\n",
    "  for row in reader:\n",
    "    \n",
    "    key = row['state']\n",
    "    if key not in states:\n",
    "      states.add(key)\n",
    "  states_dct = dict.fromkeys(states, {})\n",
    "    \n",
    "\n",
    "print(states_dct)\n",
    "print(states)\n"
   ]
  },
  {
   "cell_type": "code",
   "execution_count": 22,
   "id": "awful-angle",
   "metadata": {
    "scrolled": true
   },
   "outputs": [
    {
     "name": "stdout",
     "output_type": "stream",
     "text": [
      "OrderedDict([('address_id', '1'), ('street', '141 N. San Pablo St'), ('city', 'La Porte'), ('state', 'TX')])\n",
      "OrderedDict([('address_id', '2'), ('street', '988 E. Courtland St'), ('city', 'Coppell'), ('state', 'TX')])\n",
      "OrderedDict([('address_id', '3'), ('street', '9779 Blue Spring Street'), ('city', 'Spring'), ('state', 'TX')])\n",
      "OrderedDict([('address_id', '4'), ('street', '1109 Pine Grove Dr'), ('city', 'Alpharetta'), ('state', 'GA')])\n",
      "OrderedDict([('address_id', '5'), ('street', '1109 W 8th Ave'), ('city', 'Cordele'), ('state', 'GA')])\n",
      "OrderedDict([('address_id', '6'), ('street', '111 Brockinton Dr'), ('city', 'Saint Simons Island'), ('state', 'GA')])\n",
      "OrderedDict([('address_id', '7'), ('street', '5318 Oak Rd'), ('city', 'Sebring'), ('state', 'FL')])\n",
      "OrderedDict([('address_id', '8'), ('street', '805 La Paloma Rd'), ('city', 'Key Largo'), ('state', 'FL')])\n",
      "OrderedDict([('address_id', '9'), ('street', '905 Medford Pl'), ('city', 'Lehigh Acres'), ('state', 'FL')])\n",
      "OrderedDict([('address_id', '10'), ('street', '1563 Kerley Dr'), ('city', 'San Jose'), ('state', 'CA')])\n",
      "OrderedDict([('address_id', '11'), ('street', '3222 Pumpherston Way'), ('city', 'San Jose'), ('state', 'CA')])\n",
      "OrderedDict([('address_id', '12'), ('street', '7819 East Honey Creek Ave'), ('city', 'Anaheim'), ('state', 'CA')])\n",
      "OrderedDict([('address_id', '13'), ('street', '6330 Caribou Dr'), ('city', 'Clinton'), ('state', 'OH')])\n",
      "OrderedDict([('address_id', '14'), ('street', '618 N Broadway St'), ('city', 'Barnesville'), ('state', 'OH')])\n",
      "OrderedDict([('address_id', '15'), ('street', '64205 Bull Run Rd'), ('city', 'Saint Clairsville'), ('state', 'OH')])\n",
      "OrderedDict([('address_id', '16'), ('street', '91 Carpenter Dr'), ('city', 'Brooklyn'), ('state', 'NY')])\n",
      "OrderedDict([('address_id', '17'), ('street', '233 Piper St'), ('city', 'San Antonio'), ('state', 'TX')])\n",
      "OrderedDict([('address_id', '18'), ('street', '415 Morgan Falls Rd'), ('city', 'Atlanta'), ('state', 'GA')])\n",
      "OrderedDict([('address_id', '19'), ('street', '536 14th St'), ('city', 'Miami Beach'), ('state', 'FL')])\n",
      "OrderedDict([('address_id', '20'), ('street', '111 Laseinega Blvd'), ('city', 'Los Angeles'), ('state', 'CA')])\n",
      "OrderedDict([('address_id', '21'), ('street', '18 LeBron St'), ('city', 'Cleveland'), ('state', 'OH')])\n",
      "OrderedDict([('address_id', '22'), ('street', '1 1st Street'), ('city', 'New York'), ('state', 'NY')])\n"
     ]
    }
   ],
   "source": [
    "import csv\n",
    "\n",
    "# for state in states:\n",
    "#     dct = dict()\n",
    "with open('adresses_v2.csv') as csvf:\n",
    "    reader = csv.DictReader(csvf)\n",
    "      \n",
    "    for row in reader:\n",
    "      print (row)\n",
    "        \n",
    "        \n",
    "\n",
    "\n",
    "\n",
    "\n",
    "\n"
   ]
  },
  {
   "cell_type": "code",
   "execution_count": 37,
   "id": "younger-herald",
   "metadata": {
    "scrolled": true
   },
   "outputs": [],
   "source": [
    "with open('adresses_v2.csv') as csvf:\n",
    "    reader = csv.DictReader(csvf)\n",
    "   \n",
    "     \n",
    "    for row in reader:\n",
    "        for state in states:\n",
    "            if state == row['state']:\n",
    "                states_dct[state][row['city']]  = [row['address_id'], row['street']]\n",
    "            else:\n",
    "                continue"
   ]
  },
  {
   "cell_type": "code",
   "execution_count": 38,
   "id": "authentic-holly",
   "metadata": {},
   "outputs": [
    {
     "name": "stdout",
     "output_type": "stream",
     "text": [
      "{'FL': {'La Porte': ['1', '141 N. San Pablo St'], 'Coppell': ['2', '988 E. Courtland St'], 'Spring': ['3', '9779 Blue Spring Street'], 'Alpharetta': ['4', '1109 Pine Grove Dr'], 'Cordele': ['5', '1109 W 8th Ave'], 'Saint Simons Island': ['6', '111 Brockinton Dr'], 'Sebring': ['7', '5318 Oak Rd'], 'Key Largo': ['8', '805 La Paloma Rd'], 'Lehigh Acres': ['9', '905 Medford Pl'], 'San Jose': ['11', '3222 Pumpherston Way'], 'Anaheim': ['12', '7819 East Honey Creek Ave'], 'Clinton': ['13', '6330 Caribou Dr'], 'Barnesville': ['14', '618 N Broadway St'], 'Saint Clairsville': ['15', '64205 Bull Run Rd'], 'Brooklyn': ['16', '91 Carpenter Dr'], 'San Antonio': ['17', '233 Piper St'], 'Atlanta': ['18', '415 Morgan Falls Rd'], 'Miami Beach': ['19', '536 14th St'], 'Los Angeles': ['20', '111 Laseinega Blvd'], 'Cleveland': ['21', '18 LeBron St'], 'New York': ['22', '1 1st Street']}, 'TX': {'La Porte': ['1', '141 N. San Pablo St'], 'Coppell': ['2', '988 E. Courtland St'], 'Spring': ['3', '9779 Blue Spring Street'], 'Alpharetta': ['4', '1109 Pine Grove Dr'], 'Cordele': ['5', '1109 W 8th Ave'], 'Saint Simons Island': ['6', '111 Brockinton Dr'], 'Sebring': ['7', '5318 Oak Rd'], 'Key Largo': ['8', '805 La Paloma Rd'], 'Lehigh Acres': ['9', '905 Medford Pl'], 'San Jose': ['11', '3222 Pumpherston Way'], 'Anaheim': ['12', '7819 East Honey Creek Ave'], 'Clinton': ['13', '6330 Caribou Dr'], 'Barnesville': ['14', '618 N Broadway St'], 'Saint Clairsville': ['15', '64205 Bull Run Rd'], 'Brooklyn': ['16', '91 Carpenter Dr'], 'San Antonio': ['17', '233 Piper St'], 'Atlanta': ['18', '415 Morgan Falls Rd'], 'Miami Beach': ['19', '536 14th St'], 'Los Angeles': ['20', '111 Laseinega Blvd'], 'Cleveland': ['21', '18 LeBron St'], 'New York': ['22', '1 1st Street']}, 'NY': {'La Porte': ['1', '141 N. San Pablo St'], 'Coppell': ['2', '988 E. Courtland St'], 'Spring': ['3', '9779 Blue Spring Street'], 'Alpharetta': ['4', '1109 Pine Grove Dr'], 'Cordele': ['5', '1109 W 8th Ave'], 'Saint Simons Island': ['6', '111 Brockinton Dr'], 'Sebring': ['7', '5318 Oak Rd'], 'Key Largo': ['8', '805 La Paloma Rd'], 'Lehigh Acres': ['9', '905 Medford Pl'], 'San Jose': ['11', '3222 Pumpherston Way'], 'Anaheim': ['12', '7819 East Honey Creek Ave'], 'Clinton': ['13', '6330 Caribou Dr'], 'Barnesville': ['14', '618 N Broadway St'], 'Saint Clairsville': ['15', '64205 Bull Run Rd'], 'Brooklyn': ['16', '91 Carpenter Dr'], 'San Antonio': ['17', '233 Piper St'], 'Atlanta': ['18', '415 Morgan Falls Rd'], 'Miami Beach': ['19', '536 14th St'], 'Los Angeles': ['20', '111 Laseinega Blvd'], 'Cleveland': ['21', '18 LeBron St'], 'New York': ['22', '1 1st Street']}, 'CA': {'La Porte': ['1', '141 N. San Pablo St'], 'Coppell': ['2', '988 E. Courtland St'], 'Spring': ['3', '9779 Blue Spring Street'], 'Alpharetta': ['4', '1109 Pine Grove Dr'], 'Cordele': ['5', '1109 W 8th Ave'], 'Saint Simons Island': ['6', '111 Brockinton Dr'], 'Sebring': ['7', '5318 Oak Rd'], 'Key Largo': ['8', '805 La Paloma Rd'], 'Lehigh Acres': ['9', '905 Medford Pl'], 'San Jose': ['11', '3222 Pumpherston Way'], 'Anaheim': ['12', '7819 East Honey Creek Ave'], 'Clinton': ['13', '6330 Caribou Dr'], 'Barnesville': ['14', '618 N Broadway St'], 'Saint Clairsville': ['15', '64205 Bull Run Rd'], 'Brooklyn': ['16', '91 Carpenter Dr'], 'San Antonio': ['17', '233 Piper St'], 'Atlanta': ['18', '415 Morgan Falls Rd'], 'Miami Beach': ['19', '536 14th St'], 'Los Angeles': ['20', '111 Laseinega Blvd'], 'Cleveland': ['21', '18 LeBron St'], 'New York': ['22', '1 1st Street']}, 'OH': {'La Porte': ['1', '141 N. San Pablo St'], 'Coppell': ['2', '988 E. Courtland St'], 'Spring': ['3', '9779 Blue Spring Street'], 'Alpharetta': ['4', '1109 Pine Grove Dr'], 'Cordele': ['5', '1109 W 8th Ave'], 'Saint Simons Island': ['6', '111 Brockinton Dr'], 'Sebring': ['7', '5318 Oak Rd'], 'Key Largo': ['8', '805 La Paloma Rd'], 'Lehigh Acres': ['9', '905 Medford Pl'], 'San Jose': ['11', '3222 Pumpherston Way'], 'Anaheim': ['12', '7819 East Honey Creek Ave'], 'Clinton': ['13', '6330 Caribou Dr'], 'Barnesville': ['14', '618 N Broadway St'], 'Saint Clairsville': ['15', '64205 Bull Run Rd'], 'Brooklyn': ['16', '91 Carpenter Dr'], 'San Antonio': ['17', '233 Piper St'], 'Atlanta': ['18', '415 Morgan Falls Rd'], 'Miami Beach': ['19', '536 14th St'], 'Los Angeles': ['20', '111 Laseinega Blvd'], 'Cleveland': ['21', '18 LeBron St'], 'New York': ['22', '1 1st Street']}, 'GA': {'La Porte': ['1', '141 N. San Pablo St'], 'Coppell': ['2', '988 E. Courtland St'], 'Spring': ['3', '9779 Blue Spring Street'], 'Alpharetta': ['4', '1109 Pine Grove Dr'], 'Cordele': ['5', '1109 W 8th Ave'], 'Saint Simons Island': ['6', '111 Brockinton Dr'], 'Sebring': ['7', '5318 Oak Rd'], 'Key Largo': ['8', '805 La Paloma Rd'], 'Lehigh Acres': ['9', '905 Medford Pl'], 'San Jose': ['11', '3222 Pumpherston Way'], 'Anaheim': ['12', '7819 East Honey Creek Ave'], 'Clinton': ['13', '6330 Caribou Dr'], 'Barnesville': ['14', '618 N Broadway St'], 'Saint Clairsville': ['15', '64205 Bull Run Rd'], 'Brooklyn': ['16', '91 Carpenter Dr'], 'San Antonio': ['17', '233 Piper St'], 'Atlanta': ['18', '415 Morgan Falls Rd'], 'Miami Beach': ['19', '536 14th St'], 'Los Angeles': ['20', '111 Laseinega Blvd'], 'Cleveland': ['21', '18 LeBron St'], 'New York': ['22', '1 1st Street']}}\n"
     ]
    }
   ],
   "source": [
    "print (states_dct)\n"
   ]
  },
  {
   "cell_type": "code",
   "execution_count": null,
   "id": "fatal-trademark",
   "metadata": {},
   "outputs": [],
   "source": []
  }
 ],
 "metadata": {
  "kernelspec": {
   "display_name": "Python 3",
   "language": "python",
   "name": "python3"
  },
  "language_info": {
   "codemirror_mode": {
    "name": "ipython",
    "version": 3
   },
   "file_extension": ".py",
   "mimetype": "text/x-python",
   "name": "python",
   "nbconvert_exporter": "python",
   "pygments_lexer": "ipython3",
   "version": "3.7.10"
  }
 },
 "nbformat": 4,
 "nbformat_minor": 5
}
